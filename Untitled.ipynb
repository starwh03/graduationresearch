{
 "cells": [
  {
   "cell_type": "code",
   "execution_count": 2,
   "metadata": {},
   "outputs": [
    {
     "ename": "SyntaxError",
     "evalue": "(unicode error) 'unicodeescape' codec can't decode bytes in position 2-3: truncated \\UXXXXXXXX escape (<ipython-input-2-78016549ee09>, line 17)",
     "output_type": "error",
     "traceback": [
      "\u001b[1;36m  File \u001b[1;32m\"<ipython-input-2-78016549ee09>\"\u001b[1;36m, line \u001b[1;32m17\u001b[0m\n\u001b[1;33m    loc = 'C:\\Users\\choew\\Desktop\\졸\\data'\u001b[0m\n\u001b[1;37m         ^\u001b[0m\n\u001b[1;31mSyntaxError\u001b[0m\u001b[1;31m:\u001b[0m (unicode error) 'unicodeescape' codec can't decode bytes in position 2-3: truncated \\UXXXXXXXX escape\n"
     ]
    }
   ],
   "source": [
    "import numpy as np\n",
    "import sys\n",
    "import random\n",
    "import matplotlib as plt\n",
    "import os  \n",
    "import glob\n",
    "import math\n",
    "import cv2\n",
    "import h5py\n",
    "import time\n",
    "\n",
    "def num(number):\n",
    "    if number < 10:\n",
    "        return '00'+str(number)\n",
    "    return '0'+str(number)\n",
    "\n",
    "loc = 'C:\\Users\\choew\\Desktop\\졸\\data'\n",
    "\n",
    "f_list = os.listdir(loc)\n",
    "\n",
    "for folder in f_list:\n",
    "\n",
    "    location = os.path.join(loc, folder)\n",
    "    img_list = os.listdir(location)\n",
    "    number = int(np.floor(len(img_list) / 3))\n",
    "\n",
    "    for i in range(number):\n",
    "\n",
    "        img_num = i + 1\n",
    "        img_name = num(img_num)\n",
    "        dir = os.path.join(location, img_name)\n",
    "\n",
    "        line = cv2.imread(dir + 'line.jpg', cv2.IMREAD_COLOR) / 255.0\n",
    "        color = cv2.imread(dir + 'hint.jpg', cv2.IMREAD_COLOR) / 255.0\n",
    "        hint = color * line\n",
    "\n",
    "        hint = np.array(hint * 255.0)\n",
    "        cv2.imwrite(dir + 'H.jpg', hint)"
   ]
  }
 ],
 "metadata": {
  "kernelspec": {
   "display_name": "Python 3",
   "language": "python",
   "name": "python3"
  },
  "language_info": {
   "codemirror_mode": {
    "name": "ipython",
    "version": 3
   },
   "file_extension": ".py",
   "mimetype": "text/x-python",
   "name": "python",
   "nbconvert_exporter": "python",
   "pygments_lexer": "ipython3",
   "version": "3.7.3"
  }
 },
 "nbformat": 4,
 "nbformat_minor": 2
}
